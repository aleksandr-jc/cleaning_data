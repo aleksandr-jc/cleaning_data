{
 "cells": [
  {
   "cell_type": "code",
   "execution_count": 1,
   "metadata": {},
   "outputs": [],
   "source": [
    "import pandas as pd"
   ]
  },
  {
   "cell_type": "code",
   "execution_count": null,
   "metadata": {},
   "outputs": [],
   "source": []
  },
  {
   "cell_type": "code",
   "execution_count": 2,
   "metadata": {},
   "outputs": [],
   "source": [
    "input_file = 'xlsx/knigoland_tenage.xlsx'\n",
    "\n",
    "output_file = 'csv/knigoland_tenage.csv'\n",
    "\n",
    "df = pd.read_excel(input_file)"
   ]
  },
  {
   "cell_type": "code",
   "execution_count": 3,
   "metadata": {},
   "outputs": [
    {
     "data": {
      "text/html": [
       "<div>\n",
       "<style scoped>\n",
       "    .dataframe tbody tr th:only-of-type {\n",
       "        vertical-align: middle;\n",
       "    }\n",
       "\n",
       "    .dataframe tbody tr th {\n",
       "        vertical-align: top;\n",
       "    }\n",
       "\n",
       "    .dataframe thead th {\n",
       "        text-align: right;\n",
       "    }\n",
       "</style>\n",
       "<table border=\"1\" class=\"dataframe\">\n",
       "  <thead>\n",
       "    <tr style=\"text-align: right;\">\n",
       "      <th></th>\n",
       "      <th>Імʼя автора</th>\n",
       "      <th>Назва книги</th>\n",
       "      <th>Мова</th>\n",
       "      <th>Перекладач</th>\n",
       "      <th>Мова оригіналу</th>\n",
       "      <th>Оригінальна назва</th>\n",
       "      <th>Назва видавця</th>\n",
       "      <th>Рік видання</th>\n",
       "      <th>ISBN</th>\n",
       "      <th>Жанр книги</th>\n",
       "    </tr>\n",
       "  </thead>\n",
       "  <tbody>\n",
       "    <tr>\n",
       "      <th>0</th>\n",
       "      <td>Джордан Ліс</td>\n",
       "      <td>Шептосвітичі. Лабіринт блукань і знахідок</td>\n",
       "      <td>Українська мова</td>\n",
       "      <td>NaN</td>\n",
       "      <td>NaN</td>\n",
       "      <td>NaN</td>\n",
       "      <td>Видавництво Старого Лева</td>\n",
       "      <td>2024.0</td>\n",
       "      <td>9.789664e+12</td>\n",
       "      <td>Дітям 7-9</td>\n",
       "    </tr>\n",
       "    <tr>\n",
       "      <th>1</th>\n",
       "      <td>Шелбі Мег'юрін</td>\n",
       "      <td>Боги й чудовиська. Книга 3</td>\n",
       "      <td>Українська мова</td>\n",
       "      <td>NaN</td>\n",
       "      <td>NaN</td>\n",
       "      <td>NaN</td>\n",
       "      <td>NaN</td>\n",
       "      <td>2024.0</td>\n",
       "      <td>9.786178e+12</td>\n",
       "      <td>Фантастика. Фентезі для підлітків</td>\n",
       "    </tr>\n",
       "    <tr>\n",
       "      <th>2</th>\n",
       "      <td>Шамблен Ж.</td>\n",
       "      <td>Щоденники Вишеньки та Валентин</td>\n",
       "      <td>Українська мова</td>\n",
       "      <td>NaN</td>\n",
       "      <td>NaN</td>\n",
       "      <td>NaN</td>\n",
       "      <td>Наша Ідея</td>\n",
       "      <td>2024.0</td>\n",
       "      <td>9.786178e+12</td>\n",
       "      <td>Дітям 7-9</td>\n",
       "    </tr>\n",
       "    <tr>\n",
       "      <th>3</th>\n",
       "      <td>NaN</td>\n",
       "      <td>Стосунки. Візуальний гід у любові й дружбі</td>\n",
       "      <td>Українська мова</td>\n",
       "      <td>NaN</td>\n",
       "      <td>NaN</td>\n",
       "      <td>NaN</td>\n",
       "      <td>Моноліт-Bizz</td>\n",
       "      <td>2024.0</td>\n",
       "      <td>9.786178e+12</td>\n",
       "      <td>Non-fiction для підлітків</td>\n",
       "    </tr>\n",
       "    <tr>\n",
       "      <th>4</th>\n",
       "      <td>NaN</td>\n",
       "      <td>Мої стосунки: 100+ технік і запитань про дружб...</td>\n",
       "      <td>Українська мова</td>\n",
       "      <td>NaN</td>\n",
       "      <td>NaN</td>\n",
       "      <td>NaN</td>\n",
       "      <td>Моноліт-Bizz</td>\n",
       "      <td>2024.0</td>\n",
       "      <td>9.786178e+12</td>\n",
       "      <td>Non-fiction для підлітків</td>\n",
       "    </tr>\n",
       "  </tbody>\n",
       "</table>\n",
       "</div>"
      ],
      "text/plain": [
       "      Імʼя автора                                        Назва книги  \\\n",
       "0     Джордан Ліс          Шептосвітичі. Лабіринт блукань і знахідок   \n",
       "1  Шелбі Мег'юрін                         Боги й чудовиська. Книга 3   \n",
       "2      Шамблен Ж.                     Щоденники Вишеньки та Валентин   \n",
       "3             NaN         Стосунки. Візуальний гід у любові й дружбі   \n",
       "4             NaN  Мої стосунки: 100+ технік і запитань про дружб...   \n",
       "\n",
       "              Мова  Перекладач  Мова оригіналу  Оригінальна назва  \\\n",
       "0  Українська мова         NaN             NaN                NaN   \n",
       "1  Українська мова         NaN             NaN                NaN   \n",
       "2  Українська мова         NaN             NaN                NaN   \n",
       "3  Українська мова         NaN             NaN                NaN   \n",
       "4  Українська мова         NaN             NaN                NaN   \n",
       "\n",
       "              Назва видавця  Рік видання          ISBN  \\\n",
       "0  Видавництво Старого Лева       2024.0  9.789664e+12   \n",
       "1                       NaN       2024.0  9.786178e+12   \n",
       "2                 Наша Ідея       2024.0  9.786178e+12   \n",
       "3              Моноліт-Bizz       2024.0  9.786178e+12   \n",
       "4              Моноліт-Bizz       2024.0  9.786178e+12   \n",
       "\n",
       "                          Жанр книги  \n",
       "0                          Дітям 7-9  \n",
       "1  Фантастика. Фентезі для підлітків  \n",
       "2                          Дітям 7-9  \n",
       "3          Non-fiction для підлітків  \n",
       "4          Non-fiction для підлітків  "
      ]
     },
     "execution_count": 3,
     "metadata": {},
     "output_type": "execute_result"
    }
   ],
   "source": [
    "df.head()"
   ]
  },
  {
   "cell_type": "code",
   "execution_count": 12,
   "metadata": {},
   "outputs": [
    {
     "data": {
      "text/html": [
       "<div>\n",
       "<style scoped>\n",
       "    .dataframe tbody tr th:only-of-type {\n",
       "        vertical-align: middle;\n",
       "    }\n",
       "\n",
       "    .dataframe tbody tr th {\n",
       "        vertical-align: top;\n",
       "    }\n",
       "\n",
       "    .dataframe thead th {\n",
       "        text-align: right;\n",
       "    }\n",
       "</style>\n",
       "<table border=\"1\" class=\"dataframe\">\n",
       "  <thead>\n",
       "    <tr style=\"text-align: right;\">\n",
       "      <th></th>\n",
       "      <th>Імʼя автора</th>\n",
       "      <th>Назва книги</th>\n",
       "      <th>Мова</th>\n",
       "      <th>Перекладач</th>\n",
       "      <th>Мова оригіналу</th>\n",
       "      <th>Оригінальна назва</th>\n",
       "      <th>Назва видавця</th>\n",
       "      <th>Рік видання</th>\n",
       "      <th>ISBN</th>\n",
       "      <th>Жанр книги</th>\n",
       "    </tr>\n",
       "  </thead>\n",
       "  <tbody>\n",
       "  </tbody>\n",
       "</table>\n",
       "</div>"
      ],
      "text/plain": [
       "Empty DataFrame\n",
       "Columns: [Імʼя автора, Назва книги, Мова, Перекладач, Мова оригіналу, Оригінальна назва, Назва видавця, Рік видання, ISBN, Жанр книги]\n",
       "Index: []"
      ]
     },
     "execution_count": 12,
     "metadata": {},
     "output_type": "execute_result"
    }
   ],
   "source": [
    "df_filter = df[df['Назва книги'].str.contains('розмальовка', case=False, na=False)]\n",
    "df_filter\n",
    "\n"
   ]
  },
  {
   "cell_type": "code",
   "execution_count": 13,
   "metadata": {},
   "outputs": [],
   "source": [
    "df.to_csv(output_file, index=False)"
   ]
  }
 ],
 "metadata": {
  "kernelspec": {
   "display_name": "clean_env",
   "language": "python",
   "name": "python3"
  },
  "language_info": {
   "codemirror_mode": {
    "name": "ipython",
    "version": 3
   },
   "file_extension": ".py",
   "mimetype": "text/x-python",
   "name": "python",
   "nbconvert_exporter": "python",
   "pygments_lexer": "ipython3",
   "version": "3.10.12"
  }
 },
 "nbformat": 4,
 "nbformat_minor": 2
}
