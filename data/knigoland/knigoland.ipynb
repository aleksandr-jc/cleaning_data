{
 "cells": [
  {
   "cell_type": "code",
   "execution_count": 1,
   "metadata": {},
   "outputs": [],
   "source": [
    "import pandas as pd\n"
   ]
  },
  {
   "cell_type": "code",
   "execution_count": 6,
   "metadata": {},
   "outputs": [
    {
     "name": "stdout",
     "output_type": "stream",
     "text": [
      "Кількість рядків на початку: 4918\n"
     ]
    }
   ],
   "source": [
    "input_file = 'xlsx/knigoland_fiction.xlsx'\n",
    "\n",
    "output_file = 'csv/knigoland_fiction.csv'\n",
    "\n",
    "df = pd.read_excel(input_file)\n",
    "\n",
    "df.to_csv(output_file, index=False)\n",
    "\n",
    "df = pd.read_csv(output_file)\n",
    "\n",
    "print(f'Кількість рядків на початку: {df.shape[0]}')"
   ]
  },
  {
   "cell_type": "code",
   "execution_count": 7,
   "metadata": {},
   "outputs": [
    {
     "name": "stdout",
     "output_type": "stream",
     "text": [
      "                   Імʼя автора                              Назва книги  \\\n",
      "0  Mary Wollstonecraft Shelley  Frankenstein; or, The Modern Prometheus   \n",
      "1                        Louis        The Body Snatcher and Other Tales   \n",
      "2                    A. Achell              Клинок королеви: Дитя тіней   \n",
      "3                    A. Achell         Клинок королеви. Танок із тінями   \n",
      "4                    Яценко П.    Короткий путівник із галицького сексу   \n",
      "\n",
      "              Мова Перекладач  Мова оригіналу  Оригінальна назва  \\\n",
      "0        російська        NaN             NaN                NaN   \n",
      "1       Англійська        NaN             NaN                NaN   \n",
      "2  Українська мова        NaN             NaN                NaN   \n",
      "3  Українська мова        NaN             NaN                NaN   \n",
      "4  Українська мова        NaN             NaN                NaN   \n",
      "\n",
      "  Назва видавця  Рік видання           ISBN  \\\n",
      "0   Країна Мрій       2019.0            NaN   \n",
      "1   Країна Мрій       2020.0  9786177498338   \n",
      "2      BookChef       2024.0  9786175482612   \n",
      "3      BookChef       2023.0  9786175481530   \n",
      "4      Піраміда       2015.0            NaN   \n",
      "\n",
      "                                 Жанр книги  \n",
      "0         Білінгва. Книги іноземними мовами  \n",
      "1         Білінгва. Книги іноземними мовами  \n",
      "2  Книги жанру Фантастика. Фентезі. Містика  \n",
      "3  Книги жанру Фантастика. Фентезі. Містика  \n",
      "4                  Сучасна українська проза  \n"
     ]
    }
   ],
   "source": [
    "df['Назва книги'] = df['Назва книги'].str.replace(r'^Книга\\s+', '', regex=True)\n",
    "print(df.head())"
   ]
  },
  {
   "cell_type": "code",
   "execution_count": 8,
   "metadata": {},
   "outputs": [
    {
     "name": "stdout",
     "output_type": "stream",
     "text": [
      "0\n"
     ]
    }
   ],
   "source": [
    "df_filter = df[df['Назва книги'].str.contains('Комплект', case=False, na=False)]\n",
    "\n",
    "\n",
    "rows_to_drop = df_filter.index\n",
    "\n",
    "print(rows_to_drop.shape[0])"
   ]
  },
  {
   "cell_type": "code",
   "execution_count": 9,
   "metadata": {},
   "outputs": [
    {
     "name": "stdout",
     "output_type": "stream",
     "text": [
      " Кількість книжок після видалення комплектів: 4918\n"
     ]
    }
   ],
   "source": [
    "df.drop(index=rows_to_drop, inplace=True)\n",
    "print(f' Кількість книжок після видалення комплектів: {df.shape[0]}')"
   ]
  },
  {
   "cell_type": "code",
   "execution_count": 10,
   "metadata": {},
   "outputs": [
    {
     "name": "stdout",
     "output_type": "stream",
     "text": [
      "Empty DataFrame\n",
      "Columns: [Імʼя автора, Назва книги, Мова, Перекладач, Мова оригіналу, Оригінальна назва, Назва видавця, Рік видання, ISBN, Жанр книги]\n",
      "Index: []\n"
     ]
    }
   ],
   "source": [
    "df_filter = df[(df['ISBN'].isnull()) & (df['Назва видавця'].isnull())]\n",
    "print(df_filter)"
   ]
  },
  {
   "cell_type": "code",
   "execution_count": 11,
   "metadata": {},
   "outputs": [
    {
     "name": "stdout",
     "output_type": "stream",
     "text": [
      "0\n"
     ]
    }
   ],
   "source": [
    "df_filter = df[df['Назва книги'].isnull()]\n",
    "print(df_filter.shape[0])"
   ]
  },
  {
   "cell_type": "code",
   "execution_count": 12,
   "metadata": {},
   "outputs": [],
   "source": [
    "df.to_csv(output_file, index=False)"
   ]
  }
 ],
 "metadata": {
  "kernelspec": {
   "display_name": "clean_env",
   "language": "python",
   "name": "python3"
  },
  "language_info": {
   "codemirror_mode": {
    "name": "ipython",
    "version": 3
   },
   "file_extension": ".py",
   "mimetype": "text/x-python",
   "name": "python",
   "nbconvert_exporter": "python",
   "pygments_lexer": "ipython3",
   "version": "3.10.12"
  }
 },
 "nbformat": 4,
 "nbformat_minor": 2
}
