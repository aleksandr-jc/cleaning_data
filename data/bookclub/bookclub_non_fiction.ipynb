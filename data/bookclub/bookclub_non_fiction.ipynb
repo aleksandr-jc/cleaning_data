{
 "cells": [
  {
   "cell_type": "code",
   "execution_count": 2,
   "id": "cfa2764c-3f81-464a-b142-85e5ab28ea81",
   "metadata": {},
   "outputs": [],
   "source": [
    "import pandas as pd\n",
    "import re"
   ]
  },
  {
   "cell_type": "code",
   "execution_count": 3,
   "id": "5c67aa75-a653-49ad-a08f-55f115b145be",
   "metadata": {},
   "outputs": [
    {
     "name": "stdout",
     "output_type": "stream",
     "text": [
      "Конвертація успішно завершена!\n"
     ]
    }
   ],
   "source": [
    "# конвертація файлів .xlsx у .csv\n",
    "\n",
    "# вказуємо шлях до файлу .xlsx\n",
    "input_file = 'data/bookclub/xlsx/bookclub_data_non_fiction.xlsx'\n",
    "\n",
    "\n",
    "\n",
    "# вказуємо шлях до збереження файлу .csv\n",
    "output_file = 'data/bookclub/csv/bookclub_data_non_fiction.csv'\n",
    "\n",
    "data = pd.read_excel(input_file)\n",
    "\n",
    "data.to_csv(output_file, index=False)\n",
    "\n",
    "print('Конвертація успішно завершена!')"
   ]
  },
  {
   "cell_type": "code",
   "execution_count": 5,
   "id": "58696748",
   "metadata": {},
   "outputs": [
    {
     "name": "stdout",
     "output_type": "stream",
     "text": [
      " Кількість рядків до видалення комплектів: 434\n"
     ]
    }
   ],
   "source": [
    "data = pd.read_csv(output_file)\n",
    "print(f' Кількість рядків до видалення комплектів: {data.shape[0]}')"
   ]
  },
  {
   "cell_type": "code",
   "execution_count": 6,
   "id": "6f18c291",
   "metadata": {},
   "outputs": [
    {
     "name": "stdout",
     "output_type": "stream",
     "text": [
      " Кількість книжок після видалення комплектів: 430\n"
     ]
    }
   ],
   "source": [
    "df_filter = data[data['Назва книги'].str.contains('Комплект', case=False, na=False)]\n",
    "rows_to_drop = df_filter.index\n",
    "\n",
    "\n",
    "data.drop(index=rows_to_drop, inplace=True)\n",
    "print(f' Кількість книжок після видалення комплектів: {data.shape[0]}')\n"
   ]
  },
  {
   "cell_type": "code",
   "execution_count": 8,
   "id": "2e99814a",
   "metadata": {},
   "outputs": [],
   "source": [
    "data.to_csv(output_file, index=False)"
   ]
  }
 ],
 "metadata": {
  "kernelspec": {
   "display_name": "Python 3 (ipykernel)",
   "language": "python",
   "name": "python3"
  },
  "language_info": {
   "codemirror_mode": {
    "name": "ipython",
    "version": 3
   },
   "file_extension": ".py",
   "mimetype": "text/x-python",
   "name": "python",
   "nbconvert_exporter": "python",
   "pygments_lexer": "ipython3",
   "version": "3.10.12"
  }
 },
 "nbformat": 4,
 "nbformat_minor": 5
}
