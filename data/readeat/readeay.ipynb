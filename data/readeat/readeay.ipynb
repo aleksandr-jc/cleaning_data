{
 "cells": [
  {
   "cell_type": "code",
   "execution_count": 2,
   "metadata": {},
   "outputs": [],
   "source": [
    "import pandas as pd"
   ]
  },
  {
   "cell_type": "code",
   "execution_count": 4,
   "metadata": {},
   "outputs": [
    {
     "name": "stdout",
     "output_type": "stream",
     "text": [
      "Конвератція успішно пройшла!\n"
     ]
    }
   ],
   "source": [
    "input_file = 'xlsx/readeat_xlsx.xlsx'\n",
    "output_file = 'csv/readeat.csv'\n",
    "\n",
    "df = pd.read_excel(input_file)\n",
    "\n",
    "df.to_csv(output_file, index=False)\n",
    "\n",
    "print('Конвератція успішно пройшла!')"
   ]
  },
  {
   "cell_type": "code",
   "execution_count": 9,
   "metadata": {},
   "outputs": [
    {
     "name": "stdout",
     "output_type": "stream",
     "text": [
      " Кількість рядків до видалення комплектів: 13841\n"
     ]
    }
   ],
   "source": [
    "df = pd.read_csv(output_file)\n",
    "print(f' Кількість рядків до видалення комплектів: {df.shape[0]}')"
   ]
  },
  {
   "cell_type": "code",
   "execution_count": 12,
   "metadata": {},
   "outputs": [
    {
     "name": "stdout",
     "output_type": "stream",
     "text": [
      "Кількість знайдених для видалення позицій: 0\n",
      " Кількість книжок після видалення комплектів: 13822\n"
     ]
    }
   ],
   "source": [
    "df_filter = df[df['Назва книги'].str.contains('Комплект', case=False, na=False)]\n",
    "\n",
    "rows_to_drop = df_filter.index\n",
    "print(f'Кількість знайдених для видалення позицій: {rows_to_drop.shape[0]}')\n",
    "\n",
    "df.drop(index=rows_to_drop, inplace=True)\n",
    "print(f' Кількість книжок після видалення комплектів: {df.shape[0]}')"
   ]
  },
  {
   "cell_type": "code",
   "execution_count": 19,
   "metadata": {},
   "outputs": [
    {
     "name": "stdout",
     "output_type": "stream",
     "text": [
      " Кількість книжок після видалення комплектів: 12237\n"
     ]
    }
   ],
   "source": [
    "# Не украхнські видавці які потрібно видалити\n",
    "publishers = [\n",
    "    \"Bloomsbury\",\n",
    "    \"DK\",\n",
    "    \"Penguin\",\n",
    "    \"Random House\",\n",
    "    \"Ebury Spotlight\",\n",
    "    \"Vintage\",\n",
    "    \"Hodder & Stoughton\",\n",
    "    \"HarperCollins Publishers\",\n",
    "    \"Orion\",\n",
    "    \"Arrow Books\",\n",
    "    \"Orbit\",\n",
    "    \"Hodder\",\n",
    "    \"Gollancz\",\n",
    "    \"Everyman\",\n",
    "    \"Twelve\",\n",
    "    \"Macmillan\",\n",
    "    \"Transworld Digital\",\n",
    "    \"Black Swan\",\n",
    "    \"Little Brown Book Group\",\n",
    "    \"Del Rey Books\",\n",
    "    \"Thames and Hudson Ltd\",\n",
    "    \"Big Picture Press\",\n",
    "    \"Jo Fletcher Books\",\n",
    "    \"Abrams\",\n",
    "    \"Skira Editore\",\n",
    "    \"Wordsworth Editions\",\n",
    "    \"William Collins\",\n",
    "    \"Welbeck\",\n",
    "    \"Weidenfeld & Nicolson\",\n",
    "    \"Warne\",\n",
    "    \"Virgin Books\",\n",
    "    \"Virago\",\n",
    "    \"Vintage Classics\",\n",
    "    \"Viking\",\n",
    "    \"Victoria & Albert Museum\",\n",
    "    \"Vermilion\",\n",
    "    \"Valiant\",\n",
    "    \"V&A\",\n",
    "    \"Usborne\",\n",
    "    \"Twelve\",\n",
    "    \"Titan Books\",\n",
    "    \"The Borough Press\",\n",
    "    \"The Bodley Head\",\n",
    "    \"Tashen\",\n",
    "    \"Tashen\",\n",
    "    \"Sphere\",\n",
    "    \"Skira Editore\",\n",
    "    \"Simon & Schuster Ltd\",\n",
    "    \"Scholastic\",\n",
    "    \"Sceptre\",\n",
    "    \"Robinson\",\n",
    "    \"Rider & Co\",\n",
    "    \"Rebellion\",\n",
    "    \"Raven Books\",\n",
    "    \"Quercus Publishing Plc\",\n",
    "    \"Quercus Publishing\",\n",
    "    \"Puffin Classics\",\n",
    "    \"Puffin\",\n",
    "    \"PublicAffairs\",\n",
    "    \"Profile Books\",\n",
    "    \"Princeton Architectural Press\",\n",
    "    \"Portfolio Penguin\",\n",
    "    \"Picador\",\n",
    "    \"Piatkus Books\",\n",
    "    \"Penguin Classics\",\n",
    "    \"Penguin\",\n",
    "    \"Pelican\",\n",
    "    \"Pavilion\",\n",
    "    \"Particular Books\",\n",
    "    \"PanMacmillan\",\n",
    "    \"Pan Macmillan\",\n",
    "    \"Pan\",\n",
    "    \"Orion Publishing\",\n",
    "    \"Orion\",\n",
    "    \"Orbit\",\n",
    "    \"One Boat\",\n",
    "    \"Octopus Publishing Group\",\n",
    "    \"Michael Joseph\",\n",
    "    \"Marvel\",\n",
    "    \"Macmillan Ltd\",\n",
    "    \"Macmillan\",\n",
    "    \"MacLehose Press\",\n",
    "    \"Locust Moon Press\",\n",
    "    \"Little Brown Book Group\",\n",
    "    \"Laurence King Publishing\",\n",
    "    \"Ladybird\",\n",
    "    \"Jonathan Cape\",\n",
    "    \"John Murray\",\n",
    "    \"John Blake Publishing Ltd\",\n",
    "    \"Jo Fletcher Books\",\n",
    "    \"Image\",\n",
    "    \"IDW Publishing\",\n",
    "    \"Hot Key Books\",\n",
    "    \"Hot Key\",\n",
    "    \"Hodder Paperbacks\",\n",
    "    \"Hodder & Stoughton\",\n",
    "    \"Hodder\",\n",
    "    \"Headline Publishing Group\",\n",
    "    \"Headline\",\n",
    "    \"HarperVoyager\",\n",
    "    \"HarperCollins Publishers\",\n",
    "    \"HarperCollins\",\n",
    "    \"Hamish Hamilton\",\n",
    "    \"Hachette\",\n",
    "    \"Grove Press UK\",\n",
    "    \"Graphic India\",\n",
    "    \"Grand Central Publishing\",\n",
    "    \"Gollancz\",\n",
    "    \"gestalten\",\n",
    "    \"Flatiron Books\",\n",
    "    \"Flammarion\",\n",
    "    \"Farshore\",\n",
    "    \"Faber and Faber\",\n",
    "    \"Everything\",\n",
    "    \"Electric Monkey\",\n",
    "    \"Egmont\",\n",
    "    \"Ebury Spotlight\",\n",
    "    \"Ebury Press\",\n",
    "    \"Dynamite Entertainment\",\n",
    "    \"Doubleday\",\n",
    "    \"Dorling Kindersley\",\n",
    "    \"Del Rey Books\",\n",
    "    \"DC/Vertigo\",\n",
    "    \"DC\",\n",
    "    \"Dark Horse\",\n",
    "    \"Da Capo Press\",\n",
    "    \"Cornerstone Press\",\n",
    "    \"Cornerstone\",\n",
    "    \"Corgi\",\n",
    "    \"Conran\",\n",
    "    \"Collins\",\n",
    "    \"Chronicle Books\",\n",
    "    \"Chatto & Windus\",\n",
    "    \"Century Publishing\",\n",
    "    \"Center Street\",\n",
    "    \"Carlton Books Ltd\",\n",
    "    \"Canongate Books\",\n",
    "    \"Cambridge University Press\",\n",
    "    \"British Museum\",\n",
    "    \"Boom!\",\n",
    "    \"Bookouture\",\n",
    "    \"Bluebird\",\n",
    "    \"Bloomsbury Wildlife\",\n",
    "    \"Bloomsbury Publishing\",\n",
    "    \"Black Swan\",\n",
    "    \"Black Mask Studios\",\n",
    "    \"Big Picture Press\",\n",
    "    \"BBC Books\",\n",
    "    \"Basic Books\",\n",
    "    \"Bantam Press\",\n",
    "    \"Atria Books\",\n",
    "    \"Atom Books\",\n",
    "    \"Atlantic Books\",\n",
    "    \"Arrow Books\",\n",
    "    \"Archie Publications\",\n",
    "    \"Andrews McMeel\",\n",
    "    \"Alma Classics\",\n",
    "    \"Alma Books\",\n",
    "    \"Allen Lane\",\n",
    "    \"Albatross Exploding Funny\",\n",
    "    \"Abacus\"\n",
    "]\n",
    "\n",
    "\n",
    "# Створіть вектор масок, який буде True для рядків, що містять слова\n",
    "mask = df['Назва видавця'].str.contains('|'.join(publishers), case=False, na=False)\n",
    "\n",
    "# Створіть DataFrame для зберігання результатів\n",
    "df_filter = df[mask]\n",
    "\n",
    "# Отримайте індекси рядків, які потрібно видалити\n",
    "rows_to_drop = df_filter.index\n",
    "\n",
    "# Видаліть рядки з DataFrame\n",
    "df.drop(index=rows_to_drop, inplace=True)\n",
    "\n",
    "# Перевірте кількість книжок після видалення\n",
    "print(f' Кількість книжок після видалення комплектів: {df.shape[0]}')"
   ]
  },
  {
   "cell_type": "code",
   "execution_count": 23,
   "metadata": {},
   "outputs": [
    {
     "name": "stdout",
     "output_type": "stream",
     "text": [
      "Кількість знайдених для видалення позицій: 1\n",
      " Кількість книжок після видалення комплектів: 12116\n"
     ]
    }
   ],
   "source": [
    "df_filter = df[df['Назва видавця'].str.contains('8th & Atlas Publishing', case=False, na=False)]\n",
    "\n",
    "rows_to_drop = df_filter.index\n",
    "print(f'Кількість знайдених для видалення позицій: {rows_to_drop.shape[0]}')\n",
    "\n",
    "df.drop(index=rows_to_drop, inplace=True)\n",
    "print(f' Кількість книжок після видалення комплектів: {df.shape[0]}')"
   ]
  },
  {
   "cell_type": "code",
   "execution_count": 24,
   "metadata": {},
   "outputs": [
    {
     "name": "stdout",
     "output_type": "stream",
     "text": [
      "              Імʼя автора                 Назва книги        Мова Перекладач  \\\n",
      "8221  Костянтин Кошеленко  MANAGEMENT IN TIMES OF WAR  Англійська        NaN   \n",
      "\n",
      "     Мова оригіналу                                  Оригінальна назва  \\\n",
      "8221            NaN  Management in Times of War: Leadership Example...   \n",
      "\n",
      "                Назва видавця Рік видання           ISBN  \\\n",
      "8221  Book Chamber of Ukraine        2024  9786177982103   \n",
      "\n",
      "                   Жанр книги  \n",
      "8221  Менеджмент та лідерство  \n"
     ]
    }
   ],
   "source": [
    "# додаю попущене видавництво\n",
    "df.loc[df['Назва книги'] == 'MANAGEMENT IN TIMES OF WAR', 'Назва видавця'] = ['Book Chamber of Ukraine']\n",
    "df_name = df[df['Назва книги'].str.contains('MANAGEMENT IN TIMES OF WAR', case=False, na=False)]\n",
    "print(df_name)"
   ]
  },
  {
   "cell_type": "code",
   "execution_count": 27,
   "metadata": {},
   "outputs": [
    {
     "name": "stdout",
     "output_type": "stream",
     "text": [
      " Кількість книжок після видалення комплектів: 12113\n"
     ]
    }
   ],
   "source": [
    "df_filter = df[df['Назва книги'].str.contains('The World of Ice and Fire', case=False, na=False)]\n",
    "rows_to_drop = df_filter.index\n",
    "\n",
    "\n",
    "df.drop(index=rows_to_drop, inplace=True)\n",
    "print(f' Кількість книжок після видалення комплектів: {df.shape[0]}')"
   ]
  },
  {
   "cell_type": "code",
   "execution_count": 28,
   "metadata": {},
   "outputs": [],
   "source": [
    "df.to_csv(output_file, index=False)"
   ]
  }
 ],
 "metadata": {
  "kernelspec": {
   "display_name": "clean_env",
   "language": "python",
   "name": "python3"
  },
  "language_info": {
   "codemirror_mode": {
    "name": "ipython",
    "version": 3
   },
   "file_extension": ".py",
   "mimetype": "text/x-python",
   "name": "python",
   "nbconvert_exporter": "python",
   "pygments_lexer": "ipython3",
   "version": "3.10.12"
  }
 },
 "nbformat": 4,
 "nbformat_minor": 2
}
