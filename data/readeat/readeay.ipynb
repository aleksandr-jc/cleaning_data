{
 "cells": [
  {
   "cell_type": "code",
   "execution_count": 1,
   "metadata": {},
   "outputs": [],
   "source": [
    "import pandas as pd"
   ]
  },
  {
   "cell_type": "code",
   "execution_count": 5,
   "metadata": {},
   "outputs": [
    {
     "name": "stdout",
     "output_type": "stream",
     "text": [
      "Конвератція успішно пройшла!\n"
     ]
    }
   ],
   "source": [
    "input_file = 'xlsx/readeat1.xlsx'\n",
    "output_file = 'csv/readeat.csv'\n",
    "\n",
    "df = pd.read_excel(input_file)\n",
    "\n",
    "df.to_csv(output_file, index=False)\n",
    "\n",
    "print('Конвератція успішно пройшла!')"
   ]
  },
  {
   "cell_type": "code",
   "execution_count": 7,
   "metadata": {},
   "outputs": [
    {
     "name": "stdout",
     "output_type": "stream",
     "text": [
      " Кількість рядків до видалення комплектів: 12086\n"
     ]
    },
    {
     "data": {
      "text/html": [
       "<div>\n",
       "<style scoped>\n",
       "    .dataframe tbody tr th:only-of-type {\n",
       "        vertical-align: middle;\n",
       "    }\n",
       "\n",
       "    .dataframe tbody tr th {\n",
       "        vertical-align: top;\n",
       "    }\n",
       "\n",
       "    .dataframe thead th {\n",
       "        text-align: right;\n",
       "    }\n",
       "</style>\n",
       "<table border=\"1\" class=\"dataframe\">\n",
       "  <thead>\n",
       "    <tr style=\"text-align: right;\">\n",
       "      <th></th>\n",
       "      <th>Імʼя автора</th>\n",
       "      <th>Назва книги</th>\n",
       "      <th>Мова</th>\n",
       "      <th>Перекладач</th>\n",
       "      <th>Мова оригіналу</th>\n",
       "      <th>Оригінальна назва</th>\n",
       "      <th>Назва видавця</th>\n",
       "      <th>Рік видання</th>\n",
       "      <th>ISBN</th>\n",
       "      <th>Жанр книги</th>\n",
       "    </tr>\n",
       "  </thead>\n",
       "  <tbody>\n",
       "    <tr>\n",
       "      <th>0</th>\n",
       "      <td>Петер Слотердайк</td>\n",
       "      <td>Терор з повітря</td>\n",
       "      <td>Українська</td>\n",
       "      <td>Олександра Григоренко</td>\n",
       "      <td>NaN</td>\n",
       "      <td>NaN</td>\n",
       "      <td>IST Publishing</td>\n",
       "      <td>2023</td>\n",
       "      <td>9786177948260</td>\n",
       "      <td>Світова історія</td>\n",
       "    </tr>\n",
       "    <tr>\n",
       "      <th>1</th>\n",
       "      <td>Ігор Загребельний</td>\n",
       "      <td>Майдан: хроніки недореволюції</td>\n",
       "      <td>Українська</td>\n",
       "      <td>NaN</td>\n",
       "      <td>NaN</td>\n",
       "      <td>NaN</td>\n",
       "      <td>Крила</td>\n",
       "      <td>2014</td>\n",
       "      <td>987-966-348-372-6</td>\n",
       "      <td>Документалістика та репортажі</td>\n",
       "    </tr>\n",
       "    <tr>\n",
       "      <th>2</th>\n",
       "      <td>Любов Савченко</td>\n",
       "      <td>Розмовляй українською правильно (тв)</td>\n",
       "      <td>Українська</td>\n",
       "      <td>NaN</td>\n",
       "      <td>NaN</td>\n",
       "      <td>NaN</td>\n",
       "      <td>Фоліо</td>\n",
       "      <td>2016</td>\n",
       "      <td>9789660374102T</td>\n",
       "      <td>Мова та словники</td>\n",
       "    </tr>\n",
       "    <tr>\n",
       "      <th>3</th>\n",
       "      <td>Тейлор Дженкінс Рід</td>\n",
       "      <td>Світанок Малібу. Limited edition</td>\n",
       "      <td>Українська</td>\n",
       "      <td>Альона Крупка</td>\n",
       "      <td>NaN</td>\n",
       "      <td>NaN</td>\n",
       "      <td>АРТБУКС</td>\n",
       "      <td>2023</td>\n",
       "      <td>9786175230459le</td>\n",
       "      <td>Сучасна світова проза</td>\n",
       "    </tr>\n",
       "    <tr>\n",
       "      <th>4</th>\n",
       "      <td>Юрій Нікітінський</td>\n",
       "      <td>В океані</td>\n",
       "      <td>Українська</td>\n",
       "      <td>NaN</td>\n",
       "      <td>NaN</td>\n",
       "      <td>NaN</td>\n",
       "      <td>АРТБУКС</td>\n",
       "      <td>2019</td>\n",
       "      <td>9786-177-688-17-3</td>\n",
       "      <td>Дитячі енциклопедії</td>\n",
       "    </tr>\n",
       "  </tbody>\n",
       "</table>\n",
       "</div>"
      ],
      "text/plain": [
       "           Імʼя автора                           Назва книги        Мова  \\\n",
       "0     Петер Слотердайк                       Терор з повітря  Українська   \n",
       "1    Ігор Загребельний         Майдан: хроніки недореволюції  Українська   \n",
       "2       Любов Савченко  Розмовляй українською правильно (тв)  Українська   \n",
       "3  Тейлор Дженкінс Рід      Світанок Малібу. Limited edition  Українська   \n",
       "4    Юрій Нікітінський                              В океані  Українська   \n",
       "\n",
       "              Перекладач Мова оригіналу Оригінальна назва   Назва видавця  \\\n",
       "0  Олександра Григоренко            NaN               NaN  IST Publishing   \n",
       "1                    NaN            NaN               NaN           Крила   \n",
       "2                    NaN            NaN               NaN           Фоліо   \n",
       "3          Альона Крупка            NaN               NaN         АРТБУКС   \n",
       "4                    NaN            NaN               NaN         АРТБУКС   \n",
       "\n",
       "  Рік видання               ISBN                     Жанр книги  \n",
       "0        2023      9786177948260                Світова історія  \n",
       "1        2014  987-966-348-372-6  Документалістика та репортажі  \n",
       "2        2016     9789660374102T               Мова та словники  \n",
       "3        2023    9786175230459le          Сучасна світова проза  \n",
       "4        2019  9786-177-688-17-3            Дитячі енциклопедії  "
      ]
     },
     "execution_count": 7,
     "metadata": {},
     "output_type": "execute_result"
    }
   ],
   "source": [
    "df = pd.read_csv(output_file)\n",
    "print(f' Кількість рядків до видалення комплектів: {df.shape[0]}')\n",
    "df.head()"
   ]
  },
  {
   "cell_type": "code",
   "execution_count": 12,
   "metadata": {},
   "outputs": [
    {
     "name": "stdout",
     "output_type": "stream",
     "text": [
      "Кількість знайдених для видалення позицій: 0\n",
      " Кількість книжок після видалення комплектів: 13822\n"
     ]
    }
   ],
   "source": [
    "df_filter = df[df['Назва книги'].str.contains('Комплект', case=False, na=False)]\n",
    "\n",
    "rows_to_drop = df_filter.index\n",
    "print(f'Кількість знайдених для видалення позицій: {rows_to_drop.shape[0]}')\n",
    "\n",
    "df.drop(index=rows_to_drop, inplace=True)\n",
    "print(f' Кількість книжок після видалення комплектів: {df.shape[0]}')"
   ]
  },
  {
   "cell_type": "code",
   "execution_count": 19,
   "metadata": {},
   "outputs": [
    {
     "name": "stdout",
     "output_type": "stream",
     "text": [
      " Кількість книжок після видалення комплектів: 12237\n"
     ]
    }
   ],
   "source": [
    "# Не украхнські видавці які потрібно видалити\n",
    "publishers = [\n",
    "    \"Bloomsbury\",\n",
    "    \"DK\",\n",
    "    \"Penguin\",\n",
    "    \"Random House\",\n",
    "    \"Ebury Spotlight\",\n",
    "    \"Vintage\",\n",
    "    \"Hodder & Stoughton\",\n",
    "    \"HarperCollins Publishers\",\n",
    "    \"Orion\",\n",
    "    \"Arrow Books\",\n",
    "    \"Orbit\",\n",
    "    \"Hodder\",\n",
    "    \"Gollancz\",\n",
    "    \"Everyman\",\n",
    "    \"Twelve\",\n",
    "    \"Macmillan\",\n",
    "    \"Transworld Digital\",\n",
    "    \"Black Swan\",\n",
    "    \"Little Brown Book Group\",\n",
    "    \"Del Rey Books\",\n",
    "    \"Thames and Hudson Ltd\",\n",
    "    \"Big Picture Press\",\n",
    "    \"Jo Fletcher Books\",\n",
    "    \"Abrams\",\n",
    "    \"Skira Editore\",\n",
    "    \"Wordsworth Editions\",\n",
    "    \"William Collins\",\n",
    "    \"Welbeck\",\n",
    "    \"Weidenfeld & Nicolson\",\n",
    "    \"Warne\",\n",
    "    \"Virgin Books\",\n",
    "    \"Virago\",\n",
    "    \"Vintage Classics\",\n",
    "    \"Viking\",\n",
    "    \"Victoria & Albert Museum\",\n",
    "    \"Vermilion\",\n",
    "    \"Valiant\",\n",
    "    \"V&A\",\n",
    "    \"Usborne\",\n",
    "    \"Twelve\",\n",
    "    \"Titan Books\",\n",
    "    \"The Borough Press\",\n",
    "    \"The Bodley Head\",\n",
    "    \"Tashen\",\n",
    "    \"Tashen\",\n",
    "    \"Sphere\",\n",
    "    \"Skira Editore\",\n",
    "    \"Simon & Schuster Ltd\",\n",
    "    \"Scholastic\",\n",
    "    \"Sceptre\",\n",
    "    \"Robinson\",\n",
    "    \"Rider & Co\",\n",
    "    \"Rebellion\",\n",
    "    \"Raven Books\",\n",
    "    \"Quercus Publishing Plc\",\n",
    "    \"Quercus Publishing\",\n",
    "    \"Puffin Classics\",\n",
    "    \"Puffin\",\n",
    "    \"PublicAffairs\",\n",
    "    \"Profile Books\",\n",
    "    \"Princeton Architectural Press\",\n",
    "    \"Portfolio Penguin\",\n",
    "    \"Picador\",\n",
    "    \"Piatkus Books\",\n",
    "    \"Penguin Classics\",\n",
    "    \"Penguin\",\n",
    "    \"Pelican\",\n",
    "    \"Pavilion\",\n",
    "    \"Particular Books\",\n",
    "    \"PanMacmillan\",\n",
    "    \"Pan Macmillan\",\n",
    "    \"Pan\",\n",
    "    \"Orion Publishing\",\n",
    "    \"Orion\",\n",
    "    \"Orbit\",\n",
    "    \"One Boat\",\n",
    "    \"Octopus Publishing Group\",\n",
    "    \"Michael Joseph\",\n",
    "    \"Marvel\",\n",
    "    \"Macmillan Ltd\",\n",
    "    \"Macmillan\",\n",
    "    \"MacLehose Press\",\n",
    "    \"Locust Moon Press\",\n",
    "    \"Little Brown Book Group\",\n",
    "    \"Laurence King Publishing\",\n",
    "    \"Ladybird\",\n",
    "    \"Jonathan Cape\",\n",
    "    \"John Murray\",\n",
    "    \"John Blake Publishing Ltd\",\n",
    "    \"Jo Fletcher Books\",\n",
    "    \"Image\",\n",
    "    \"IDW Publishing\",\n",
    "    \"Hot Key Books\",\n",
    "    \"Hot Key\",\n",
    "    \"Hodder Paperbacks\",\n",
    "    \"Hodder & Stoughton\",\n",
    "    \"Hodder\",\n",
    "    \"Headline Publishing Group\",\n",
    "    \"Headline\",\n",
    "    \"HarperVoyager\",\n",
    "    \"HarperCollins Publishers\",\n",
    "    \"HarperCollins\",\n",
    "    \"Hamish Hamilton\",\n",
    "    \"Hachette\",\n",
    "    \"Grove Press UK\",\n",
    "    \"Graphic India\",\n",
    "    \"Grand Central Publishing\",\n",
    "    \"Gollancz\",\n",
    "    \"gestalten\",\n",
    "    \"Flatiron Books\",\n",
    "    \"Flammarion\",\n",
    "    \"Farshore\",\n",
    "    \"Faber and Faber\",\n",
    "    \"Everything\",\n",
    "    \"Electric Monkey\",\n",
    "    \"Egmont\",\n",
    "    \"Ebury Spotlight\",\n",
    "    \"Ebury Press\",\n",
    "    \"Dynamite Entertainment\",\n",
    "    \"Doubleday\",\n",
    "    \"Dorling Kindersley\",\n",
    "    \"Del Rey Books\",\n",
    "    \"DC/Vertigo\",\n",
    "    \"DC\",\n",
    "    \"Dark Horse\",\n",
    "    \"Da Capo Press\",\n",
    "    \"Cornerstone Press\",\n",
    "    \"Cornerstone\",\n",
    "    \"Corgi\",\n",
    "    \"Conran\",\n",
    "    \"Collins\",\n",
    "    \"Chronicle Books\",\n",
    "    \"Chatto & Windus\",\n",
    "    \"Century Publishing\",\n",
    "    \"Center Street\",\n",
    "    \"Carlton Books Ltd\",\n",
    "    \"Canongate Books\",\n",
    "    \"Cambridge University Press\",\n",
    "    \"British Museum\",\n",
    "    \"Boom!\",\n",
    "    \"Bookouture\",\n",
    "    \"Bluebird\",\n",
    "    \"Bloomsbury Wildlife\",\n",
    "    \"Bloomsbury Publishing\",\n",
    "    \"Black Swan\",\n",
    "    \"Black Mask Studios\",\n",
    "    \"Big Picture Press\",\n",
    "    \"BBC Books\",\n",
    "    \"Basic Books\",\n",
    "    \"Bantam Press\",\n",
    "    \"Atria Books\",\n",
    "    \"Atom Books\",\n",
    "    \"Atlantic Books\",\n",
    "    \"Arrow Books\",\n",
    "    \"Archie Publications\",\n",
    "    \"Andrews McMeel\",\n",
    "    \"Alma Classics\",\n",
    "    \"Alma Books\",\n",
    "    \"Allen Lane\",\n",
    "    \"Albatross Exploding Funny\",\n",
    "    \"Abacus\"\n",
    "]\n",
    "\n",
    "\n",
    "# Створіть вектор масок, який буде True для рядків, що містять слова\n",
    "mask = df['Назва видавця'].str.contains('|'.join(publishers), case=False, na=False)\n",
    "\n",
    "# Створіть DataFrame для зберігання результатів\n",
    "df_filter = df[mask]\n",
    "\n",
    "# Отримайте індекси рядків, які потрібно видалити\n",
    "rows_to_drop = df_filter.index\n",
    "\n",
    "# Видаліть рядки з DataFrame\n",
    "df.drop(index=rows_to_drop, inplace=True)\n",
    "\n",
    "# Перевірте кількість книжок після видалення\n",
    "print(f' Кількість книжок після видалення комплектів: {df.shape[0]}')"
   ]
  },
  {
   "cell_type": "code",
   "execution_count": 23,
   "metadata": {},
   "outputs": [
    {
     "name": "stdout",
     "output_type": "stream",
     "text": [
      "Кількість знайдених для видалення позицій: 1\n",
      " Кількість книжок після видалення комплектів: 12116\n"
     ]
    }
   ],
   "source": [
    "df_filter = df[df['Назва видавця'].str.contains('8th & Atlas Publishing', case=False, na=False)]\n",
    "\n",
    "rows_to_drop = df_filter.index\n",
    "print(f'Кількість знайдених для видалення позицій: {rows_to_drop.shape[0]}')\n",
    "\n",
    "df.drop(index=rows_to_drop, inplace=True)\n",
    "print(f' Кількість книжок після видалення комплектів: {df.shape[0]}')"
   ]
  },
  {
   "cell_type": "code",
   "execution_count": 24,
   "metadata": {},
   "outputs": [
    {
     "name": "stdout",
     "output_type": "stream",
     "text": [
      "              Імʼя автора                 Назва книги        Мова Перекладач  \\\n",
      "8221  Костянтин Кошеленко  MANAGEMENT IN TIMES OF WAR  Англійська        NaN   \n",
      "\n",
      "     Мова оригіналу                                  Оригінальна назва  \\\n",
      "8221            NaN  Management in Times of War: Leadership Example...   \n",
      "\n",
      "                Назва видавця Рік видання           ISBN  \\\n",
      "8221  Book Chamber of Ukraine        2024  9786177982103   \n",
      "\n",
      "                   Жанр книги  \n",
      "8221  Менеджмент та лідерство  \n"
     ]
    }
   ],
   "source": [
    "# додаю попущене видавництво\n",
    "df.loc[df['Назва книги'] == 'MANAGEMENT IN TIMES OF WAR', 'Назва видавця'] = ['Book Chamber of Ukraine']\n",
    "df_name = df[df['Назва книги'].str.contains('MANAGEMENT IN TIMES OF WAR', case=False, na=False)]\n",
    "print(df_name)"
   ]
  },
  {
   "cell_type": "code",
   "execution_count": 27,
   "metadata": {},
   "outputs": [
    {
     "name": "stdout",
     "output_type": "stream",
     "text": [
      " Кількість книжок після видалення комплектів: 12113\n"
     ]
    }
   ],
   "source": [
    "df_filter = df[df['Назва книги'].str.contains('The World of Ice and Fire', case=False, na=False)]\n",
    "rows_to_drop = df_filter.index\n",
    "\n",
    "\n",
    "df.drop(index=rows_to_drop, inplace=True)\n",
    "print(f' Кількість книжок після видалення комплектів: {df.shape[0]}')"
   ]
  },
  {
   "cell_type": "code",
   "execution_count": 10,
   "metadata": {},
   "outputs": [
    {
     "name": "stdout",
     "output_type": "stream",
     "text": [
      " Кількість книжок після видалення комплектів: 12028\n"
     ]
    }
   ],
   "source": [
    "df_filter = df[df['Назва видавця'].str.contains('English Students', case=False, na=False)]\n",
    "rows_to_drop = df_filter.index\n",
    "\n",
    "\n",
    "df.drop(index=rows_to_drop, inplace=True)\n",
    "print(f' Кількість книжок після видалення комплектів: {df.shape[0]}')"
   ]
  },
  {
   "cell_type": "code",
   "execution_count": 11,
   "metadata": {},
   "outputs": [],
   "source": [
    "df.to_csv(output_file, index=False)"
   ]
  }
 ],
 "metadata": {
  "kernelspec": {
   "display_name": "clean_env",
   "language": "python",
   "name": "python3"
  },
  "language_info": {
   "codemirror_mode": {
    "name": "ipython",
    "version": 3
   },
   "file_extension": ".py",
   "mimetype": "text/x-python",
   "name": "python",
   "nbconvert_exporter": "python",
   "pygments_lexer": "ipython3",
   "version": "3.10.12"
  }
 },
 "nbformat": 4,
 "nbformat_minor": 2
}
