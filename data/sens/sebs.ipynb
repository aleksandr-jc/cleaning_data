{
 "cells": [
  {
   "cell_type": "code",
   "execution_count": 1,
   "metadata": {},
   "outputs": [],
   "source": [
    "import pandas as pd\n"
   ]
  },
  {
   "cell_type": "code",
   "execution_count": 2,
   "metadata": {},
   "outputs": [
    {
     "name": "stdout",
     "output_type": "stream",
     "text": [
      "Конвертація успішно завершена!\n"
     ]
    }
   ],
   "source": [
    "# конвертація файлів .xlsx у .csv\n",
    "\n",
    "# вказуємо шлях до файлу .xlsx\n",
    "input_file = 'xlsx/sens_books_20_06_2024.xlsx'\n",
    "\n",
    "# вказуємо шлях до збереження файлу .csv\n",
    "output_file = 'csv/sens_books_20_06_2024.csv'\n",
    "\n",
    "\n",
    "data = pd.read_excel(input_file)\n",
    "\n",
    "data.to_csv(output_file, index=False)\n",
    "\n",
    "print('Конвертація успішно завершена!')"
   ]
  },
  {
   "cell_type": "code",
   "execution_count": 3,
   "metadata": {},
   "outputs": [
    {
     "name": "stdout",
     "output_type": "stream",
     "text": [
      " Кількість рядків до видалення комплектів: 8045\n"
     ]
    }
   ],
   "source": [
    "data = pd.read_csv(output_file)\n",
    "print(f' Кількість рядків до видалення комплектів: {data.shape[0]}')"
   ]
  },
  {
   "cell_type": "code",
   "execution_count": 4,
   "metadata": {},
   "outputs": [
    {
     "name": "stdout",
     "output_type": "stream",
     "text": [
      " Кількість книжок після видалення комплектів: 8035\n"
     ]
    }
   ],
   "source": [
    "# видаляємо комплекти книг\n",
    "df_filter = data[data['Назва книги'].str.contains('Комплект', case=False, na=False)]\n",
    "rows_to_drop = df_filter.index\n",
    "\n",
    "\n",
    "data.drop(index=rows_to_drop, inplace=True)\n",
    "print(f' Кількість книжок після видалення комплектів: {data.shape[0]}')"
   ]
  },
  {
   "cell_type": "code",
   "execution_count": 5,
   "metadata": {},
   "outputs": [
    {
     "name": "stdout",
     "output_type": "stream",
     "text": [
      " Кількість книжок після видалення комплектів: 8030\n"
     ]
    }
   ],
   "source": [
    "# видаляємо свічки \n",
    "df_filter = data[data['Назва книги'].str.contains('Свічка', case=True, na=False)]\n",
    "rows_to_drop = df_filter.index\n",
    "\n",
    "\n",
    "data.drop(index=rows_to_drop, inplace=True)\n",
    "print(f' Кількість книжок після видалення комплектів: {data.shape[0]}')"
   ]
  },
  {
   "cell_type": "code",
   "execution_count": 6,
   "metadata": {},
   "outputs": [
    {
     "name": "stdout",
     "output_type": "stream",
     "text": [
      " Кількість книжок після видалення комплектів: 8024\n"
     ]
    }
   ],
   "source": [
    "# видаляємо подарункові сертифікати\n",
    "df_filter = data[data['Назва книги'].str.contains('подарунковий', case=False, na=False)]\n",
    "rows_to_drop = df_filter.index\n",
    "\n",
    "\n",
    "data.drop(index=rows_to_drop, inplace=True)\n",
    "print(f' Кількість книжок після видалення комплектів: {data.shape[0]}')"
   ]
  },
  {
   "cell_type": "code",
   "execution_count": 7,
   "metadata": {},
   "outputs": [
    {
     "name": "stdout",
     "output_type": "stream",
     "text": [
      " Кількість книжок після видалення комплектів: 8018\n"
     ]
    }
   ],
   "source": [
    "# видаляємо пазли\n",
    "df_filter = data[data['Назва книги'].str.contains('пазл', case=False, na=False)]\n",
    "rows_to_drop = df_filter.index\n",
    "\n",
    "\n",
    "data.drop(index=rows_to_drop, inplace=True)\n",
    "print(f' Кількість книжок після видалення комплектів: {data.shape[0]}')"
   ]
  },
  {
   "cell_type": "code",
   "execution_count": 8,
   "metadata": {},
   "outputs": [
    {
     "name": "stdout",
     "output_type": "stream",
     "text": [
      " Кількість книжок після видалення комплектів: 8017\n"
     ]
    }
   ],
   "source": [
    " \n",
    "df_filter = data[data['Назва книги'].str.contains('Футболка', case=False, na=False)]\n",
    "rows_to_drop = df_filter.index\n",
    "\n",
    "\n",
    "data.drop(index=rows_to_drop, inplace=True)\n",
    "print(f' Кількість книжок після видалення комплектів: {data.shape[0]}')"
   ]
  },
  {
   "cell_type": "code",
   "execution_count": 9,
   "metadata": {},
   "outputs": [
    {
     "name": "stdout",
     "output_type": "stream",
     "text": [
      " Кількість книжок після видалення комплектів: 8016\n"
     ]
    }
   ],
   "source": [
    "df_filter = data[data['Назва книги'].str.contains('Telegraf. Creativity of the Brave.', case=True, na=False)]\n",
    "rows_to_drop = df_filter.index\n",
    "\n",
    "\n",
    "data.drop(index=rows_to_drop, inplace=True)\n",
    "print(f' Кількість книжок після видалення комплектів: {data.shape[0]}')"
   ]
  },
  {
   "cell_type": "code",
   "execution_count": 14,
   "metadata": {},
   "outputs": [
    {
     "name": "stdout",
     "output_type": "stream",
     "text": [
      " Кількість книжок після видалення комплектів: 7764\n"
     ]
    }
   ],
   "source": [
    "# Не украхнські видавці які потрібно видалити\n",
    "publishers = [\n",
    "    \"Bloomsbury\",\n",
    "    \"DK\",\n",
    "    \"Penguin\",\n",
    "    \"Random House\",\n",
    "    \"Ebury Spotlight\",\n",
    "    \"Vintage\",\n",
    "    \"Hodder & Stoughton\",\n",
    "    \"HarperCollins Publishers\",\n",
    "    \"Orion\",\n",
    "    \"Arrow Books\",\n",
    "    \"Orbit\",\n",
    "    \"Hodder\",\n",
    "    \"Gollancz\",\n",
    "    \"Everyman\",\n",
    "    \"Twelve\",\n",
    "    \"Macmillan\",\n",
    "    \"Transworld Digital\",\n",
    "    \"Black Swan\",\n",
    "    \"Little Brown Book Group\",\n",
    "    \"Del Rey Books\",\n",
    "    \"Thames and Hudson Ltd\",\n",
    "    \"Big Picture Press\",\n",
    "    \"Jo Fletcher Books\",\n",
    "    \"Abrams\",\n",
    "    \"Skira Editore\",\n",
    "    \"Wordsworth Editions\",\n",
    "    \"William Collins\",\n",
    "    \"Welbeck\",\n",
    "    \"Weidenfeld & Nicolson\",\n",
    "    \"Warne\",\n",
    "    \"Virgin Books\",\n",
    "    \"Virago\",\n",
    "    \"Vintage Classics\",\n",
    "    \"Viking\",\n",
    "    \"Victoria & Albert Museum\",\n",
    "    \"Vermilion\",\n",
    "    \"Valiant\",\n",
    "    \"V&A\",\n",
    "    \"Usborne\",\n",
    "    \"Twelve\",\n",
    "    \"Titan Books\",\n",
    "    \"The Borough Press\",\n",
    "    \"The Bodley Head\",\n",
    "    \"Tashen\",\n",
    "    \"Tashen\",\n",
    "    \"Sphere\",\n",
    "    \"Skira Editore\",\n",
    "    \"Simon & Schuster Ltd\",\n",
    "    \"Scholastic\",\n",
    "    \"Sceptre\",\n",
    "    \"Robinson\",\n",
    "    \"Rider & Co\",\n",
    "    \"Rebellion\",\n",
    "    \"Raven Books\",\n",
    "    \"Quercus Publishing Plc\",\n",
    "    \"Quercus Publishing\",\n",
    "    \"Puffin Classics\",\n",
    "    \"Puffin\",\n",
    "    \"PublicAffairs\",\n",
    "    \"Profile Books\",\n",
    "    \"Princeton Architectural Press\",\n",
    "    \"Portfolio Penguin\",\n",
    "    \"Picador\",\n",
    "    \"Piatkus Books\",\n",
    "    \"Penguin Classics\",\n",
    "    \"Penguin\",\n",
    "    \"Pelican\",\n",
    "    \"Pavilion\",\n",
    "    \"Particular Books\",\n",
    "    \"PanMacmillan\",\n",
    "    \"Pan Macmillan\",\n",
    "    \"Pan\",\n",
    "    \"Orion Publishing\",\n",
    "    \"Orion\",\n",
    "    \"Orbit\",\n",
    "    \"One Boat\",\n",
    "    \"Octopus Publishing Group\",\n",
    "    \"Michael Joseph\",\n",
    "    \"Marvel\",\n",
    "    \"Macmillan Ltd\",\n",
    "    \"Macmillan\",\n",
    "    \"MacLehose Press\",\n",
    "    \"Locust Moon Press\",\n",
    "    \"Little Brown Book Group\",\n",
    "    \"Laurence King Publishing\",\n",
    "    \"Ladybird\",\n",
    "    \"Jonathan Cape\",\n",
    "    \"John Murray\",\n",
    "    \"John Blake Publishing Ltd\",\n",
    "    \"Jo Fletcher Books\",\n",
    "    \"Image\",\n",
    "    \"IDW Publishing\",\n",
    "    \"Hot Key Books\",\n",
    "    \"Hot Key\",\n",
    "    \"Hodder Paperbacks\",\n",
    "    \"Hodder & Stoughton\",\n",
    "    \"Hodder\",\n",
    "    \"Headline Publishing Group\",\n",
    "    \"Headline\",\n",
    "    \"HarperVoyager\",\n",
    "    \"HarperCollins Publishers\",\n",
    "    \"HarperCollins\",\n",
    "    \"Hamish Hamilton\",\n",
    "    \"Hachette\",\n",
    "    \"Grove Press UK\",\n",
    "    \"Graphic India\",\n",
    "    \"Grand Central Publishing\",\n",
    "    \"Gollancz\",\n",
    "    \"gestalten\",\n",
    "    \"Flatiron Books\",\n",
    "    \"Flammarion\",\n",
    "    \"Farshore\",\n",
    "    \"Faber and Faber\",\n",
    "    \"Everything\",\n",
    "    \"Electric Monkey\",\n",
    "    \"Egmont\",\n",
    "    \"Ebury Spotlight\",\n",
    "    \"Ebury Press\",\n",
    "    \"Dynamite Entertainment\",\n",
    "    \"Doubleday\",\n",
    "    \"Dorling Kindersley\",\n",
    "    \"Del Rey Books\",\n",
    "    \"DC/Vertigo\",\n",
    "    \"DC\",\n",
    "    \"Dark Horse\",\n",
    "    \"Da Capo Press\",\n",
    "    \"Cornerstone Press\",\n",
    "    \"Cornerstone\",\n",
    "    \"Corgi\",\n",
    "    \"Conran\",\n",
    "    \"Collins\",\n",
    "    \"Chronicle Books\",\n",
    "    \"Chatto & Windus\",\n",
    "    \"Century Publishing\",\n",
    "    \"Center Street\",\n",
    "    \"Carlton Books Ltd\",\n",
    "    \"Canongate Books\",\n",
    "    \"Cambridge University Press\",\n",
    "    \"British Museum\",\n",
    "    \"Boom!\",\n",
    "    \"Bookouture\",\n",
    "    \"Bluebird\",\n",
    "    \"Bloomsbury Wildlife\",\n",
    "    \"Bloomsbury Publishing\",\n",
    "    \"Black Swan\",\n",
    "    \"Black Mask Studios\",\n",
    "    \"Big Picture Press\",\n",
    "    \"BBC Books\",\n",
    "    \"Basic Books\",\n",
    "    \"Bantam Press\",\n",
    "    \"Atria Books\",\n",
    "    \"Atom Books\",\n",
    "    \"Atlantic Books\",\n",
    "    \"Arrow Books\",\n",
    "    \"Archie Publications\",\n",
    "    \"Andrews McMeel\",\n",
    "    \"Alma Classics\",\n",
    "    \"Alma Books\",\n",
    "    \"Allen Lane\",\n",
    "    \"Albatross Exploding Funny\",\n",
    "    \"Abacus\",\n",
    "    'Windmill Books',\n",
    "    'Walker Books',\n",
    "    'W&N',\n",
    "    'Tor',\n",
    "    'Taschen',\n",
    "    'Simon & Schuster',\n",
    "    'Quarto',\n",
    "    'Piatkus',\n",
    "    'ORNER',\n",
    "    'Godsfield',\n",
    "    'Gallery',\n",
    "    'Faber',\n",
    "    'Campbell',\n",
    "    'Bold Type Books',\n",
    "    'Bloom Books',\n",
    "    'Barefoot Books',\n",
    "    'Arcturus'\n",
    "]\n",
    "\n",
    "\n",
    "# Створіть вектор масок, який буде True для рядків, що містять слова\n",
    "mask = data['Назва видавця'].str.contains('|'.join(publishers), case=False, na=False)\n",
    "\n",
    "# Створіть DataFrame для зберігання результатів\n",
    "df_filter = data[mask]\n",
    "\n",
    "# Отримайте індекси рядків, які потрібно видалити\n",
    "rows_to_drop = df_filter.index\n",
    "\n",
    "# Видаліть рядки з DataFrame\n",
    "data.drop(index=rows_to_drop, inplace=True)\n",
    "\n",
    "# Перевірте кількість книжок після видалення\n",
    "print(f' Кількість книжок після видалення комплектів: {data.shape[0]}')"
   ]
  },
  {
   "cell_type": "code",
   "execution_count": 15,
   "metadata": {},
   "outputs": [
    {
     "name": "stdout",
     "output_type": "stream",
     "text": [
      " Кількість книжок після видалення комплектів: 7763\n"
     ]
    }
   ],
   "source": [
    "df_filter = data[data['Назва книги'].str.contains('Маленький жовтий екскаватор.', case=False, na=False)]\n",
    "rows_to_drop = df_filter.index\n",
    "\n",
    "data.drop(index=rows_to_drop, inplace=True)\n",
    "\n",
    "# Перевірте кількість книжок після видалення\n",
    "print(f' Кількість книжок після видалення комплектів: {data.shape[0]}')"
   ]
  },
  {
   "cell_type": "code",
   "execution_count": 58,
   "metadata": {},
   "outputs": [
    {
     "name": "stdout",
     "output_type": "stream",
     "text": [
      " Кількість книжок після видалення комплектів: 7689\n"
     ]
    }
   ],
   "source": [
    "df_filter = data[data['Назва книги'].str.contains(\"Mindbogglers Gold: Klimt 1500 Piece Jigsaw Puzzle\", case=True, na=False)]\n",
    "rows_to_drop = df_filter.index\n",
    "\n",
    "data.drop(index=rows_to_drop, inplace=True)\n",
    "\n",
    "# Перевірте кількість книжок після видалення\n",
    "print(f' Кількість книжок після видалення комплектів: {data.shape[0]}')"
   ]
  },
  {
   "cell_type": "code",
   "execution_count": 66,
   "metadata": {},
   "outputs": [
    {
     "name": "stdout",
     "output_type": "stream",
     "text": [
      "0\n"
     ]
    }
   ],
   "source": [
    "df_filter = data[data['Назва книги'].str.contains(r'^[A-Za-z\\s]+$', na=False)]\n",
    "print(df_filter.shape[0])"
   ]
  },
  {
   "cell_type": "code",
   "execution_count": 59,
   "metadata": {},
   "outputs": [],
   "source": [
    "data.to_csv(output_file, index=False)"
   ]
  }
 ],
 "metadata": {
  "kernelspec": {
   "display_name": "clean_env",
   "language": "python",
   "name": "python3"
  },
  "language_info": {
   "codemirror_mode": {
    "name": "ipython",
    "version": 3
   },
   "file_extension": ".py",
   "mimetype": "text/x-python",
   "name": "python",
   "nbconvert_exporter": "python",
   "pygments_lexer": "ipython3",
   "version": "3.10.12"
  }
 },
 "nbformat": 4,
 "nbformat_minor": 2
}
