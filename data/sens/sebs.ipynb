{
 "cells": [
  {
   "cell_type": "code",
   "execution_count": 1,
   "metadata": {},
   "outputs": [],
   "source": [
    "import pandas as pd\n"
   ]
  },
  {
   "cell_type": "code",
   "execution_count": 6,
   "metadata": {},
   "outputs": [
    {
     "name": "stdout",
     "output_type": "stream",
     "text": [
      "Конвертація успішно завершена!\n"
     ]
    }
   ],
   "source": [
    "# конвертація файлів .xlsx у .csv\n",
    "\n",
    "# вказуємо шлях до файлу .xlsx\n",
    "input_file = 'xlsx/sens_books_20_06_2024.xlsx'\n",
    "\n",
    "# вказуємо шлях до збереження файлу .csv\n",
    "output_file = 'csv/sens_books_20_06_2024.csv'\n",
    "\n",
    "\n",
    "data = pd.read_excel(input_file)\n",
    "\n",
    "data.to_csv(output_file, index=False)\n",
    "\n",
    "print('Конвертація успішно завершена!')"
   ]
  },
  {
   "cell_type": "code",
   "execution_count": 7,
   "metadata": {},
   "outputs": [
    {
     "name": "stdout",
     "output_type": "stream",
     "text": [
      " Кількість рядків до видалення комплектів: 8045\n"
     ]
    }
   ],
   "source": [
    "data = pd.read_csv(output_file)\n",
    "print(f' Кількість рядків до видалення комплектів: {data.shape[0]}')"
   ]
  },
  {
   "cell_type": "code",
   "execution_count": 8,
   "metadata": {},
   "outputs": [
    {
     "name": "stdout",
     "output_type": "stream",
     "text": [
      " Кількість книжок після видалення комплектів: 8035\n"
     ]
    }
   ],
   "source": [
    "# видаляємо комплекти книг\n",
    "df_filter = data[data['Назва книги'].str.contains('Комплект', case=False, na=False)]\n",
    "rows_to_drop = df_filter.index\n",
    "\n",
    "\n",
    "data.drop(index=rows_to_drop, inplace=True)\n",
    "print(f' Кількість книжок після видалення комплектів: {data.shape[0]}')"
   ]
  },
  {
   "cell_type": "code",
   "execution_count": 10,
   "metadata": {},
   "outputs": [
    {
     "name": "stdout",
     "output_type": "stream",
     "text": [
      " Кількість книжок після видалення комплектів: 8030\n"
     ]
    }
   ],
   "source": [
    "# видаляємо свічки \n",
    "df_filter = data[data['Назва книги'].str.contains('Свічка', case=True, na=False)]\n",
    "rows_to_drop = df_filter.index\n",
    "\n",
    "\n",
    "data.drop(index=rows_to_drop, inplace=True)\n",
    "print(f' Кількість книжок після видалення комплектів: {data.shape[0]}')"
   ]
  },
  {
   "cell_type": "code",
   "execution_count": 11,
   "metadata": {},
   "outputs": [
    {
     "name": "stdout",
     "output_type": "stream",
     "text": [
      " Кількість книжок після видалення комплектів: 8024\n"
     ]
    }
   ],
   "source": [
    "# видаляємо подарункові сертифікати\n",
    "df_filter = data[data['Назва книги'].str.contains('подарунковий', case=False, na=False)]\n",
    "rows_to_drop = df_filter.index\n",
    "\n",
    "\n",
    "data.drop(index=rows_to_drop, inplace=True)\n",
    "print(f' Кількість книжок після видалення комплектів: {data.shape[0]}')"
   ]
  },
  {
   "cell_type": "code",
   "execution_count": 12,
   "metadata": {},
   "outputs": [
    {
     "name": "stdout",
     "output_type": "stream",
     "text": [
      " Кількість книжок після видалення комплектів: 8018\n"
     ]
    }
   ],
   "source": [
    "# видаляємо пазли\n",
    "df_filter = data[data['Назва книги'].str.contains('пазл', case=False, na=False)]\n",
    "rows_to_drop = df_filter.index\n",
    "\n",
    "\n",
    "data.drop(index=rows_to_drop, inplace=True)\n",
    "print(f' Кількість книжок після видалення комплектів: {data.shape[0]}')"
   ]
  },
  {
   "cell_type": "code",
   "execution_count": 24,
   "metadata": {},
   "outputs": [
    {
     "name": "stdout",
     "output_type": "stream",
     "text": [
      " Кількість книжок після видалення комплектів: 7992\n"
     ]
    }
   ],
   "source": [
    " \n",
    "df_filter = data[data['Назва книги'].str.contains('Футболка', case=False, na=False)]\n",
    "rows_to_drop = df_filter.index\n",
    "\n",
    "\n",
    "data.drop(index=rows_to_drop, inplace=True)\n",
    "print(f' Кількість книжок після видалення комплектів: {data.shape[0]}')"
   ]
  },
  {
   "cell_type": "code",
   "execution_count": 32,
   "metadata": {},
   "outputs": [
    {
     "name": "stdout",
     "output_type": "stream",
     "text": [
      " Кількість книжок після видалення комплектів: 7984\n"
     ]
    }
   ],
   "source": [
    "df_filter = data[data['Назва книги'].str.contains('Telegraf. Creativity of the Brave.', case=True, na=False)]\n",
    "rows_to_drop = df_filter.index\n",
    "\n",
    "\n",
    "data.drop(index=rows_to_drop, inplace=True)\n",
    "print(f' Кількість книжок після видалення комплектів: {data.shape[0]}')"
   ]
  },
  {
   "cell_type": "code",
   "execution_count": 33,
   "metadata": {},
   "outputs": [],
   "source": [
    "data.to_csv(output_file, index=False)"
   ]
  }
 ],
 "metadata": {
  "kernelspec": {
   "display_name": "clean_env",
   "language": "python",
   "name": "python3"
  },
  "language_info": {
   "codemirror_mode": {
    "name": "ipython",
    "version": 3
   },
   "file_extension": ".py",
   "mimetype": "text/x-python",
   "name": "python",
   "nbconvert_exporter": "python",
   "pygments_lexer": "ipython3",
   "version": "3.10.12"
  }
 },
 "nbformat": 4,
 "nbformat_minor": 2
}
