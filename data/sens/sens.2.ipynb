{
 "cells": [
  {
   "cell_type": "code",
   "execution_count": 51,
   "metadata": {},
   "outputs": [],
   "source": [
    "import pandas as pd"
   ]
  },
  {
   "cell_type": "code",
   "execution_count": 55,
   "metadata": {},
   "outputs": [
    {
     "name": "stdout",
     "output_type": "stream",
     "text": [
      "Конвертація успішно завершена!\n"
     ]
    }
   ],
   "source": [
    "# конвертація файлів .xlsx у .csv\n",
    "\n",
    "# вказуємо шлях до файлу .xlsx\n",
    "input_file = 'sens_books_20_06_2024 2.xlsx'\n",
    "\n",
    "# вказуємо шлях до збереження файлу .csv\n",
    "output_file = 'sens_books_20_06_2024.csv'\n",
    "\n",
    "\n",
    "data = pd.read_excel(input_file)\n",
    "\n",
    "data.to_csv(output_file, index=False)\n",
    "\n",
    "print('Конвертація успішно завершена!')"
   ]
  },
  {
   "cell_type": "code",
   "execution_count": 42,
   "metadata": {},
   "outputs": [
    {
     "name": "stdout",
     "output_type": "stream",
     "text": [
      "767\n"
     ]
    }
   ],
   "source": [
    "df_filter2 = df[df['Назва видавця'].isnull()]\n",
    "print(df_filter2.shape[0])"
   ]
  }
 ],
 "metadata": {
  "kernelspec": {
   "display_name": "clean_env",
   "language": "python",
   "name": "python3"
  },
  "language_info": {
   "codemirror_mode": {
    "name": "ipython",
    "version": 3
   },
   "file_extension": ".py",
   "mimetype": "text/x-python",
   "name": "python",
   "nbconvert_exporter": "python",
   "pygments_lexer": "ipython3",
   "version": "3.10.12"
  }
 },
 "nbformat": 4,
 "nbformat_minor": 2
}
