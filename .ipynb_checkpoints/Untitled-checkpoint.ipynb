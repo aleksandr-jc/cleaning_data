{
 "cells": [
  {
   "cell_type": "code",
   "execution_count": 1,
   "id": "cfa2764c-3f81-464a-b142-85e5ab28ea81",
   "metadata": {},
   "outputs": [],
   "source": [
    "import pandas as pd"
   ]
  },
  {
   "cell_type": "code",
   "execution_count": 5,
   "id": "36db6491-c0e7-49bf-b6ab-f9985ba2ae9a",
   "metadata": {},
   "outputs": [
    {
     "name": "stdout",
     "output_type": "stream",
     "text": [
      "/Users/oleksandrrobu/miniforge3/bin/python\n"
     ]
    }
   ],
   "source": [
    "import sys\n",
    "print(sys.executable)"
   ]
  },
  {
   "cell_type": "code",
   "execution_count": 6,
   "id": "5c67aa75-a653-49ad-a08f-55f115b145be",
   "metadata": {},
   "outputs": [],
   "source": [
    "# # конвертація файлів .xlsx у .csv\n",
    "\n",
    "# # вказуємо шлях до файлу .xlsx\n",
    "# input_file = 'data/bookclub/xlsx/bookclub_data_fiction.xlsx'\n",
    "\n",
    "\n",
    "\n",
    "# # вказуємо шлях до збереження файлу .csv\n",
    "# output_file = 'data/bookclub/csv/bookclub_data_fiction.csv'\n",
    "\n",
    "# data = pd.read_excel(input_file)\n",
    "\n",
    "# data.to_csv(output_file, index=False)\n",
    "\n",
    "# print('Конвертація успішно завершена!')"
   ]
  },
  {
   "cell_type": "code",
   "execution_count": null,
   "id": "a889f078-76cc-4e4c-bc96-0949a6772138",
   "metadata": {},
   "outputs": [],
   "source": [
    "data = pd.read_csv('data/bookclub/csv/bookclub_data_children_books.csv')\n",
    "print(data)"
   ]
  }
 ],
 "metadata": {
  "kernelspec": {
   "display_name": "Python 3 (ipykernel)",
   "language": "python",
   "name": "python3"
  },
  "language_info": {
   "codemirror_mode": {
    "name": "ipython",
    "version": 3
   },
   "file_extension": ".py",
   "mimetype": "text/x-python",
   "name": "python",
   "nbconvert_exporter": "python",
   "pygments_lexer": "ipython3",
   "version": "3.10.12"
  }
 },
 "nbformat": 4,
 "nbformat_minor": 5
}
