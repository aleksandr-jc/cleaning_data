{
 "cells": [
  {
   "cell_type": "code",
   "execution_count": 50,
   "id": "cfa2764c-3f81-464a-b142-85e5ab28ea81",
   "metadata": {},
   "outputs": [],
   "source": [
    "import pandas as pd\n",
    "import re"
   ]
  },
  {
   "cell_type": "code",
   "execution_count": 51,
   "id": "5c67aa75-a653-49ad-a08f-55f115b145be",
   "metadata": {},
   "outputs": [
    {
     "name": "stdout",
     "output_type": "stream",
     "text": [
      "Конвертація успішно завершена!\n"
     ]
    }
   ],
   "source": [
    "# конвертація файлів .xlsx у .csv\n",
    "\n",
    "# вказуємо шлях до файлу .xlsx\n",
    "input_file = 'data/bookclub/xlsx/bookclub_data_fiction.xlsx'\n",
    "\n",
    "\n",
    "\n",
    "# вказуємо шлях до збереження файлу .csv\n",
    "output_file = 'data/bookclub/csv/bookclub_data_fiction.csv'\n",
    "\n",
    "data = pd.read_excel(input_file)\n",
    "\n",
    "data.to_csv(output_file, index=False)\n",
    "\n",
    "print('Конвертація успішно завершена!')"
   ]
  },
  {
   "cell_type": "code",
   "execution_count": 52,
   "id": "58696748",
   "metadata": {},
   "outputs": [
    {
     "name": "stdout",
     "output_type": "stream",
     "text": [
      " Кількість рядків до видалення комплектів: 1435\n"
     ]
    }
   ],
   "source": [
    "data = pd.read_csv(output_file)\n",
    "print(f' Кількість рядків до видалення комплектів: {data.shape[0]}')"
   ]
  },
  {
   "cell_type": "code",
   "execution_count": 53,
   "id": "6f18c291",
   "metadata": {},
   "outputs": [
    {
     "name": "stdout",
     "output_type": "stream",
     "text": [
      " Кількість книжок після видалення комплектів: 1402\n"
     ]
    }
   ],
   "source": [
    "df_filter = data[data['Назва книги'].str.contains('Комплект', case=False, na=False)]\n",
    "rows_to_drop = df_filter.index\n",
    "\n",
    "\n",
    "data.drop(index=rows_to_drop, inplace=True)\n",
    "print(f' Кількість книжок після видалення комплектів: {data.shape[0]}')\n"
   ]
  },
  {
   "cell_type": "code",
   "execution_count": 54,
   "id": "1797126e",
   "metadata": {},
   "outputs": [
    {
     "name": "stdout",
     "output_type": "stream",
     "text": [
      "                  ISBN Імʼя автора      Жанр книги        Мова Мова оригіналу  \\\n",
      "710  978-617-8149-03-1        Сйон  Сучасні автори  українська            NaN   \n",
      "\n",
      "    Назва видавця Назва книги Оригінальна назва Перекладач  Рік видання  \n",
      "710   Видавництво  Дитя землі               NaN        NaN       2024.0  \n"
     ]
    }
   ],
   "source": [
    "# додаю пропущений ISBN до книжки\n",
    "data.loc[data['Назва книги'] == 'Дитя землі', 'ISBN'] = ['978-617-8149-03-1']\n",
    "df_name = data[data['Назва книги'].str.contains('Дитя землі', case=False, na=False)]\n",
    "print(df_name)"
   ]
  },
  {
   "cell_type": "code",
   "execution_count": 55,
   "id": "9fbb864a",
   "metadata": {},
   "outputs": [],
   "source": [
    "df_filter_na_isbn = data[data['ISBN'].str.contains('Nan', na=True)]\n",
    "\n",
    "rows_to_drop = df_filter_na_isbn.index\n",
    "data.drop(index=rows_to_drop, inplace=True)"
   ]
  },
  {
   "cell_type": "code",
   "execution_count": 56,
   "id": "2e99814a",
   "metadata": {},
   "outputs": [],
   "source": [
    "data.to_csv(output_file, index=False)"
   ]
  }
 ],
 "metadata": {
  "kernelspec": {
   "display_name": "Python 3 (ipykernel)",
   "language": "python",
   "name": "python3"
  },
  "language_info": {
   "codemirror_mode": {
    "name": "ipython",
    "version": 3
   },
   "file_extension": ".py",
   "mimetype": "text/x-python",
   "name": "python",
   "nbconvert_exporter": "python",
   "pygments_lexer": "ipython3",
   "version": "3.10.12"
  }
 },
 "nbformat": 4,
 "nbformat_minor": 5
}
